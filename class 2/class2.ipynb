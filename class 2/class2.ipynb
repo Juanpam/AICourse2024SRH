{
 "cells": [
  {
   "cell_type": "code",
   "execution_count": 13,
   "metadata": {},
   "outputs": [
    {
     "data": {
      "text/plain": [
       "array([0, 0, 0, 1], dtype=int8)"
      ]
     },
     "execution_count": 13,
     "metadata": {},
     "output_type": "execute_result"
    }
   ],
   "source": [
    "import numpy as np\n",
    "\n",
    "# Implementation of an AND gate using a perceptron\n",
    "# Hint it may be a good idea to include the bias already as the third column\n",
    "X = np.array([\n",
    "    [0,0,1],\n",
    "    [0,1,1],\n",
    "    [1,0,1],\n",
    "    [1,1,1],\n",
    "])\n",
    "\n",
    "# Using capital letters for matrix notationa and lower case for vectors\n",
    "\n",
    "w = np.array([1,1,-1])\n",
    "\n",
    "X.shape\n",
    "\n",
    "# np.dot(X,w) != np.dot(w,X)\n",
    "\n",
    "np.dot(X,w)\n",
    "\n",
    "np.dot(X,w) > 0\n",
    "\n",
    "(np.dot(X,w) > 0).astype(np.int8)\n"
   ]
  },
  {
   "cell_type": "code",
   "execution_count": null,
   "metadata": {},
   "outputs": [],
   "source": []
  }
 ],
 "metadata": {
  "kernelspec": {
   "display_name": "AISRHCourse",
   "language": "python",
   "name": "python3"
  },
  "language_info": {
   "codemirror_mode": {
    "name": "ipython",
    "version": 3
   },
   "file_extension": ".py",
   "mimetype": "text/x-python",
   "name": "python",
   "nbconvert_exporter": "python",
   "pygments_lexer": "ipython3",
   "version": "3.10.0"
  }
 },
 "nbformat": 4,
 "nbformat_minor": 2
}
